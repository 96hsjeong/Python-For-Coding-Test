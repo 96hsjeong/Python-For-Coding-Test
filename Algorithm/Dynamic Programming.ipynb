{
 "cells": [
  {
   "cell_type": "markdown",
   "metadata": {},
   "source": [
    "## 다이나믹 프로그래밍\n",
    "\n",
    "\n",
    "- 한 번 계산한 문제는 다시 계산하지 않도록 하는 알고리즘\n",
    "\n",
    "\n",
    "- 다이나믹 프로그래밍 사용 조건\n",
    "    - 큰 문제를 작은 문제로 나눌 수 있다.\n",
    "    - 작은 문제에서 구한 정답은 그것을 포함하는 큰 문제에서도 동일하다."
   ]
  },
  {
   "cell_type": "code",
   "execution_count": 4,
   "metadata": {},
   "outputs": [
    {
     "name": "stdout",
     "output_type": "stream",
     "text": [
      "3\n"
     ]
    }
   ],
   "source": [
    "# 피보나치 수열 O(2^N)\n",
    "def fibo(x):\n",
    "    if x == 1 or x == 2:\n",
    "        return 1\n",
    "    return fibo(x - 1) + fibo(x - 2)\n",
    "\n",
    "print(fibo(4))"
   ]
  },
  {
   "cell_type": "markdown",
   "metadata": {},
   "source": [
    "#### Top-Down 방식 vs Bottom-Up 방식\n",
    "Top-Down 방식 : 재귀 함수를 이용한 다이나믹 프로그래밍, 큰 문제를 해결하기 위해 작은 문제를 호출\n",
    "\n",
    "Bottom-Up 방식 : 반복문을 이용한 다이나믹 프로그래밍, 작은 문제부터 차근차근 답을 도출"
   ]
  },
  {
   "cell_type": "markdown",
   "metadata": {},
   "source": [
    "#### 메모이제이션 Memoization 기법 (캐싱 Caching)\n",
    "- 다이나믹 프로그래밍 구현 방법 중 하나\n",
    "- 한 번 구한 결과를 메모리 공간에 메모해두고 같은 식을 다시 호출하면 메모한 결과를 그대로 가져오는 기법\n",
    "- 구현 방법 : 한 번 구한 정보를 리스트에 저장"
   ]
  },
  {
   "cell_type": "markdown",
   "metadata": {},
   "source": [
    "#### 메모이제이션\n",
    "탑다운 방식에 국한되어 사용되는 표현, 이전에 계산된 결과를 일시적으로 기록해 놓는 개념\n",
    "\n",
    "#### DP 테이블\n",
    "보텀업 방식에서 사용되는 결과 저장용 리스트"
   ]
  },
  {
   "cell_type": "code",
   "execution_count": 10,
   "metadata": {},
   "outputs": [
    {
     "name": "stdout",
     "output_type": "stream",
     "text": [
      "f(6) f(5) f(4) f(3) f(2) f(1) f(2) f(3) f(4) 8\n"
     ]
    }
   ],
   "source": [
    "# 한 번 계산된 결과를 메모이제이션하기 위한 리스트 초기화\n",
    "d = [0] * 100\n",
    "\n",
    "# 피보나치 함수를 재귀함수로 구현 (탑다운 다이나믹 프로그래밍) O(N)\n",
    "def fibo(x):\n",
    "    print('f(' + str(x) + ')', end = ' ')\n",
    "    # 종료 조건\n",
    "    if x == 1 or x == 2:\n",
    "        return 1\n",
    "    # 이미 계산한 적 있는 문제라면 그래도 반환\n",
    "    if d[x] != 0:\n",
    "        return d[x]\n",
    "    # 아직 계산하지 않은 문제라면 점화식에 따라서 피보나치 결과 반환\n",
    "    d[x] = fibo(x - 1) + fibo(x - 2)\n",
    "    return d[x]\n",
    "\n",
    "print(fibo(6))"
   ]
  },
  {
   "cell_type": "code",
   "execution_count": 12,
   "metadata": {},
   "outputs": [
    {
     "name": "stdout",
     "output_type": "stream",
     "text": [
      "218922995834555169026\n"
     ]
    }
   ],
   "source": [
    "d = [0] * 100\n",
    "\n",
    "d[1] = 1\n",
    "d[2] = 1\n",
    "n = 99\n",
    "\n",
    "# 피보나치 함수를 반복문으로 구현 (보토업 다이나믹 프로그래밍))\n",
    "for i in range(3, n + 1):\n",
    "    d[i] = d[i - 1] + d[i - 2]\n",
    "\n",
    "print(d[n])"
   ]
  },
  {
   "cell_type": "markdown",
   "metadata": {},
   "source": [
    "#### 재귀 함수 보다 반복문 사용\n",
    "재귀 함수를 사용하면 컴퓨터 시스템에서는 함수를 다시 호출했을 때 메모리 상에 적재되는 일련의 과정을 따라야 하므로 오버헤드가 발생할 수 있다.<br>\n",
    "따라서 재귀 함수 대신 반복문을 사용하여 오버헤드를 줄일 수 있다. 일반적으로 반복문을 이용한 다이나믹 프로그래밍이 더 성능이 좋다.\n",
    "\n",
    "재귀함수로 작성시 recursion depth (재귀 함수 깊이)와 관련된 오류가 발생할 수 있음 <br>\n",
    "이 경우 sys 라이브러리에 포함된 setrecurionlimit() 메서드를 호출하여 재귀 제한을 완화 가능"
   ]
  },
  {
   "cell_type": "markdown",
   "metadata": {},
   "source": [
    "#### 문제 유형 파악\n",
    "\n",
    "완전 탐색 알고리즘을 접근했을 때 시간이 매우 오래 걸리면 다이나믹 프로그래밍을 적용할 수 있는지 해결하고자 하는 하는 부분 문제들의 중복 여부를 확인"
   ]
  },
  {
   "cell_type": "markdown",
   "metadata": {},
   "source": [
    "## 실전 문제"
   ]
  },
  {
   "cell_type": "code",
   "execution_count": 23,
   "metadata": {},
   "outputs": [
    {
     "name": "stdout",
     "output_type": "stream",
     "text": [
      "26\n",
      "3\n"
     ]
    }
   ],
   "source": [
    "x = int(input())\n",
    "\n",
    "# DP 테이블 초기화\n",
    "d = [0] * 30001\n",
    "\n",
    "# 다이나믹 프로그래밍 Bottom-Up\n",
    "for i in range(2, x + 1):\n",
    "    d[i] = d[i - 1] + 1\n",
    "    \n",
    "    if i % 2 == 0:\n",
    "        d[i] = min(d[i], d[i // 2] + 1)\n",
    "    if i % 3 == 0:\n",
    "        d[i] = min(d[i], d[i // 3] + 1)\n",
    "    if i % 5 == 0:\n",
    "        d[i] = min(d[i], d[i // 5] + 1)\n",
    "\n",
    "print(d[x])"
   ]
  },
  {
   "cell_type": "code",
   "execution_count": 49,
   "metadata": {},
   "outputs": [
    {
     "name": "stdout",
     "output_type": "stream",
     "text": [
      "4\n",
      "1 3 1 5\n",
      "8\n"
     ]
    }
   ],
   "source": [
    "n = int(input())\n",
    "array = list(map(int, input().split()))\n",
    "\n",
    "d = [0] * 100\n",
    "\n",
    "d[0] = array[0]\n",
    "d[1] = max(array[0], array[1])\n",
    "for i in range(2, n):\n",
    "    d[i] = max(d[i - 1], d[i - 2] + array[i])\n",
    "    \n",
    "print(d[n - 1])"
   ]
  },
  {
   "cell_type": "code",
   "execution_count": 36,
   "metadata": {
    "scrolled": true
   },
   "outputs": [
    {
     "name": "stdout",
     "output_type": "stream",
     "text": [
      "784\n",
      "596607\n"
     ]
    }
   ],
   "source": [
    "n = int(input())\n",
    "d = [0] * 1001\n",
    "\n",
    "d[1] = 1\n",
    "d[2] = 3\n",
    "for i in range(3, n + 1):\n",
    "    d[i] = (d[i-1] + d[i - 2] * 2) % 796796\n",
    "\n",
    "print(d[n])"
   ]
  },
  {
   "cell_type": "code",
   "execution_count": 47,
   "metadata": {},
   "outputs": [
    {
     "name": "stdout",
     "output_type": "stream",
     "text": [
      "5\n"
     ]
    }
   ],
   "source": [
    "n, m = 2, 15\n",
    "array = [2, 3]\n",
    "d = [1001] * (m + 1)\n",
    "d[0] = 0\n",
    "\n",
    "for i in range(n):\n",
    "    for j in range(array[i], m + 1):\n",
    "        if d[j - array[i]] != 1001:\n",
    "            d[j] = min(d[j], d[j - array[i]] + 1)\n",
    "\n",
    "if d[m] == 1001:\n",
    "    print(-1)\n",
    "else:\n",
    "    print(d[m])"
   ]
  },
  {
   "cell_type": "code",
   "execution_count": null,
   "metadata": {},
   "outputs": [],
   "source": []
  }
 ],
 "metadata": {
  "kernelspec": {
   "display_name": "Python 3",
   "language": "python",
   "name": "python3"
  },
  "language_info": {
   "codemirror_mode": {
    "name": "ipython",
    "version": 3
   },
   "file_extension": ".py",
   "mimetype": "text/x-python",
   "name": "python",
   "nbconvert_exporter": "python",
   "pygments_lexer": "ipython3",
   "version": "3.7.4"
  }
 },
 "nbformat": 4,
 "nbformat_minor": 2
}
