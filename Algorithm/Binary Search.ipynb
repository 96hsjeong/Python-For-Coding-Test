{
 "cells": [
  {
   "cell_type": "markdown",
   "metadata": {},
   "source": [
    "## 순차 탐색 Sequential Search\n",
    "순차적으로 데이터를 탐색 / 리스트에 특정 값의 원소가 있는지 체크할 때, count() 메서드를 이용할 때 순차 탐색 수행, O(N)"
   ]
  },
  {
   "cell_type": "code",
   "execution_count": 1,
   "metadata": {},
   "outputs": [
    {
     "name": "stdout",
     "output_type": "stream",
     "text": [
      "생성할 원소 개수를 입력한 다음 한 칸 띄고 찾을 문자열을 입력하세요.\n",
      "5 Dongbin\n",
      "앞서 적은 원소 개수만큼 문자열을 입력하세요. 구분은 띄어쓰기 한 칸으로 합니다.\n",
      "Hanul Jonggu Dongbin Taeil Sangwook\n",
      "3\n"
     ]
    }
   ],
   "source": [
    "def sequential_search(n, target, array):\n",
    "    for i in range(n):\n",
    "        if array[i] == target:\n",
    "            return i + 1\n",
    "\n",
    "print(\"생성할 원소 개수를 입력한 다음 한 칸 띄고 찾을 문자열을 입력하세요.\")\n",
    "input_data = input().split()\n",
    "n = int(input_data[0])\n",
    "target = input_data[1]\n",
    "\n",
    "print(\"앞서 적은 원소 개수만큼 문자열을 입력하세요. 구분은 띄어쓰기 한 칸으로 합니다.\")\n",
    "array = input().split()\n",
    "\n",
    "print(sequential_search(n, target, array))\n"
   ]
  },
  {
   "cell_type": "markdown",
   "metadata": {},
   "source": [
    "## 이진 탐색 Binary Search\n",
    "데이터가 정렬되어 있어야만 사용 가능, 찾으려는 데이터와 중간점 위치에 있는 데이터를 반복적으로 비교, O(logN)"
   ]
  },
  {
   "cell_type": "code",
   "execution_count": 7,
   "metadata": {},
   "outputs": [
    {
     "name": "stdout",
     "output_type": "stream",
     "text": [
      "4\n"
     ]
    }
   ],
   "source": [
    "def binary_search(array, target, start, end):\n",
    "    if start > end:\n",
    "        return\n",
    "    \n",
    "    mid = (start + end) // 2\n",
    "    \n",
    "    if array[mid] == target:\n",
    "        return mid\n",
    "    elif array[mid] > target:\n",
    "        return binary_search(array, target, start, mid - 1)\n",
    "    else:\n",
    "        return binary_search(array, target, mid + 1, end)\n",
    "    \n",
    "# n, target = list(map(int, input().split()))\n",
    "# array = list(map(int, input().split()))\n",
    "n, target = 10, 7\n",
    "array = [1, 3, 5, 7, 9, 11, 13, 15, 17, 19]\n",
    "\n",
    "result = binary_search(array, target, 0, n - 1)\n",
    "if result == None:\n",
    "    print(\"원소가 존재하지 않습니다.\")\n",
    "else:\n",
    "    print(result + 1)\n",
    "    "
   ]
  },
  {
   "cell_type": "code",
   "execution_count": 9,
   "metadata": {},
   "outputs": [
    {
     "name": "stdout",
     "output_type": "stream",
     "text": [
      "4\n"
     ]
    }
   ],
   "source": [
    "def binary_search(array, target, start, end):\n",
    "    while start <= end:\n",
    "        mid = (start + end) // 2\n",
    "        \n",
    "        if array[mid] == target:\n",
    "            return mid\n",
    "        elif array[mid] > target:\n",
    "            end = mid - 1\n",
    "        else:\n",
    "            start = mid + 1\n",
    "            \n",
    "    return None\n",
    "\n",
    "n, target = 10, 7\n",
    "array = [1, 3, 5, 7, 9, 11, 13, 15, 17, 19]\n",
    "\n",
    "result = binary_search(array, target, 0, n - 1)\n",
    "if result == None:\n",
    "    print(\"원소가 존재하지 않습니다.\")\n",
    "else:\n",
    "    print(result + 1)"
   ]
  },
  {
   "cell_type": "markdown",
   "metadata": {},
   "source": [
    "## 트리 자료구조\n",
    "- 트리는 부모 노드와 자식 노드의 관계로 표현된다\n",
    "- 트리의 최상단 노드를 루트 노드라고 한다.\n",
    "- 트리의 최하단 노드를 단말 노드라고 한다.\n",
    "- 트리에서 일부를 떼어내도 트리 구조이며 이를 서브 트리라 한다.\n",
    "- 트리는 파일 시스템과 같이 계층적이고 정렬된 데이터를 다루기에 적합하다."
   ]
  },
  {
   "cell_type": "markdown",
   "metadata": {},
   "source": [
    "## 이진 탐색 트리\n",
    "- 부모 노드보다 왼쪽 자식 노드가 작다.\n",
    "- 부모 노드보다 오른쪽 자식 노드가 크다."
   ]
  },
  {
   "cell_type": "markdown",
   "metadata": {},
   "source": [
    "## 빠르게 입력받기"
   ]
  },
  {
   "cell_type": "code",
   "execution_count": 11,
   "metadata": {},
   "outputs": [
    {
     "name": "stdout",
     "output_type": "stream",
     "text": [
      "\n"
     ]
    }
   ],
   "source": [
    "import sys\n",
    "# 하나의 문자열 데이터 입력받기\n",
    "input_data = sys.stdin.readline().rstrip()\n",
    "\n",
    "# 입력받은 문자열 그대로 출력\n",
    "print(input_data)"
   ]
  },
  {
   "cell_type": "markdown",
   "metadata": {},
   "source": [
    "## 실전 문제"
   ]
  },
  {
   "cell_type": "code",
   "execution_count": 13,
   "metadata": {},
   "outputs": [
    {
     "name": "stdout",
     "output_type": "stream",
     "text": [
      "no yes yes "
     ]
    }
   ],
   "source": [
    "n = 5\n",
    "array = [8, 3, 7, 9, 2]\n",
    "m = 3\n",
    "x = [5, 7, 9]\n",
    "\n",
    "def binary_search(array, target, start, end):\n",
    "    while start <= end:\n",
    "        mid = (start + end) // 2\n",
    "        \n",
    "        if array[mid] == target:\n",
    "            return mid\n",
    "        elif array[mid] < target:\n",
    "            start = mid + 1\n",
    "        else:\n",
    "            end = mid - 1\n",
    "\n",
    "    return None\n",
    "\n",
    "for i in x:\n",
    "    result = binary_search(array, i, 0, n - 1)\n",
    "    if result != None:\n",
    "        print(\"yes\", end=' ')\n",
    "    else:\n",
    "        print(\"no\", end=' ')"
   ]
  },
  {
   "cell_type": "code",
   "execution_count": 19,
   "metadata": {},
   "outputs": [
    {
     "name": "stdout",
     "output_type": "stream",
     "text": [
      "no yes yes "
     ]
    }
   ],
   "source": [
    "# n = int(input())\n",
    "n = 5\n",
    "array = [0] * 1000000\n",
    "\n",
    "# for i in input().split():\n",
    "#     array[int(i)] = 1\n",
    "for i in [8, 3, 7, 9, 2]:\n",
    "    array[int(i)] = 1\n",
    "    \n",
    "# m = int(input())\n",
    "# x = list(map(int, input().split()))\n",
    "m = 3\n",
    "x = [5, 7, 9]\n",
    "\n",
    "for i in x:\n",
    "    if array[i] == 1:\n",
    "        print(\"yes\", end=' ')\n",
    "    else:\n",
    "        print(\"no\", end=' ')"
   ]
  },
  {
   "cell_type": "code",
   "execution_count": 15,
   "metadata": {},
   "outputs": [
    {
     "name": "stdout",
     "output_type": "stream",
     "text": [
      "no yes yes "
     ]
    }
   ],
   "source": [
    "n = 5\n",
    "array = set([8, 3, 7, 9, 2])\n",
    "m = 3\n",
    "x = [5, 7, 9]\n",
    "\n",
    "for i in x:\n",
    "    if i in array:\n",
    "        print(\"yes\", end=' ')\n",
    "    else:\n",
    "        print(\"no\", end=' ')"
   ]
  },
  {
   "cell_type": "markdown",
   "metadata": {},
   "source": [
    "## 파라메트릭 서치 Parametric Search\n",
    "최적화 문제를 결정 문제로 바꾸어 해결하는 기법, 원하는 조건을 만족하는 가장 알맞은 값을 찾는 문제"
   ]
  },
  {
   "cell_type": "code",
   "execution_count": 18,
   "metadata": {},
   "outputs": [
    {
     "name": "stdout",
     "output_type": "stream",
     "text": [
      "15\n"
     ]
    }
   ],
   "source": [
    "n, m = 4, 6\n",
    "array = [19, 15, 10, 17]\n",
    "\n",
    "start = 0\n",
    "end = max(array)\n",
    "\n",
    "result = 0\n",
    "\n",
    "while start <= end:\n",
    "    total = 0\n",
    "    mid = (start + end) // 2\n",
    "    for x in array:\n",
    "        if x > mid:\n",
    "            total += x - mid\n",
    "    if total < m:\n",
    "        end = mid - 1\n",
    "    else:\n",
    "        result = mid\n",
    "        start = mid + 1\n",
    "    \n",
    "print(result)"
   ]
  },
  {
   "cell_type": "code",
   "execution_count": null,
   "metadata": {},
   "outputs": [],
   "source": []
  }
 ],
 "metadata": {
  "kernelspec": {
   "display_name": "Python 3",
   "language": "python",
   "name": "python3"
  },
  "language_info": {
   "codemirror_mode": {
    "name": "ipython",
    "version": 3
   },
   "file_extension": ".py",
   "mimetype": "text/x-python",
   "name": "python",
   "nbconvert_exporter": "python",
   "pygments_lexer": "ipython3",
   "version": "3.7.4"
  }
 },
 "nbformat": 4,
 "nbformat_minor": 2
}
